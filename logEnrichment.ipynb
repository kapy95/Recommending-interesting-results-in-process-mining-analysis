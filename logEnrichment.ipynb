{
 "cells": [
  {
   "cell_type": "code",
   "execution_count": 2,
   "metadata": {},
   "outputs": [
    {
     "name": "stdout",
     "output_type": "stream",
     "text": [
      "importing Jupyter notebook from timeOperations.ipynb\n"
     ]
    }
   ],
   "source": [
    "import numpy as np\n",
    "import pandas as pd\n",
    "import pm4py\n",
    "from scipy import stats\n",
    "import import_ipynb\n",
    "import time\n",
    "import numbers\n",
    "from timeOperations import calculateCycleTimeOfEachPair\n",
    "from shapleyAdditiveValues import getFunction"
   ]
  },
  {
   "cell_type": "code",
   "execution_count": 3,
   "metadata": {},
   "outputs": [],
   "source": [
    "#add the data to notebook directory\n",
    "# import os,sys,inspect\n",
    "# currentdir = os.path.dirname(os.path.abspath(inspect.getfile(inspect.currentframe())))\n",
    "# parentdir = os.path.dirname(currentdir)\n",
    "# sys.path.insert(0,parentdir)\n",
    "# import sys\n",
    "# sys.path.insert(0, './Basic operations/timeOperations.ipynb')\n",
    "# from timeOperations import calculateCycleTimeOfEachPair"
   ]
  },
  {
   "cell_type": "code",
   "execution_count": 4,
   "metadata": {},
   "outputs": [],
   "source": [
    "# log = pm4py.read_xes('DomesticDeclarations.xes_')\n",
    "# dataframe = pm4py.convert_to_dataframe(log)"
   ]
  },
  {
   "cell_type": "code",
   "execution_count": 5,
   "metadata": {},
   "outputs": [],
   "source": [
    "#log_ct=calculateCycleTimeOfEachPair(dataframe,\"case:id\",\"time:timestamp\",\"concept:name\")"
   ]
  },
  {
   "cell_type": "code",
   "execution_count": 6,
   "metadata": {},
   "outputs": [],
   "source": [
    "#df_agrupado_trazas=log_ct.groupby(['case:id']).agg(lambda x: list(x))\n",
    "#version cutre para calcular la suma del cycle time para cada fila\n",
    "#log_ct['CT total']=[sum(log_ct[log_ct['case:id']==case]['Cycle time']) for case in log_ct['case:id']]"
   ]
  },
  {
   "cell_type": "code",
   "execution_count": 15,
   "metadata": {},
   "outputs": [],
   "source": [
    "def indexNumericalValue(dictionary):\n",
    "    labels={}\n",
    "    bins={}\n",
    "    \n",
    "    for dimension,KPI in dictionary.items():\n",
    "        nbinsCase=round(freedman_diaconis(KPI,\"number\"))\n",
    "        #widthCaseAmount=round(freedman_diaconis(dataframe[\"case:Amount\"],\"width\"))\n",
    "        discretized_case=pd.cut(KPI.values,nbinsCase).value_counts().sort_values(ascending=False).replace(0,np.nan).dropna()\n",
    "        dictionary[dimension]=(KPI,discretized_case)\n",
    "        bins[dimension]=nbinsCase\n",
    "        labels[dimension]=discretized_case.index.categories\n",
    "    \n",
    "    return dictionary,labels,bins"
   ]
  },
  {
   "cell_type": "code",
   "execution_count": 8,
   "metadata": {},
   "outputs": [],
   "source": [
    "def propertiesFunc(x):\n",
    "    vals={}\n",
    "    vals['numAct']=len(x['concept:name'])\n",
    "    vals['totalTime']=sum(x['Cycle time'])\n",
    "    vals['numRes']=len(x['org:resource'])\n",
    "    vals['avgRoles']=np.mean(x['org:role'].value_counts())\n",
    "    \n",
    "    return pd.Series(vals, index=['numAct', 'totalTime', 'numRes', 'avgRoles'])"
   ]
  },
  {
   "cell_type": "code",
   "execution_count": 9,
   "metadata": {},
   "outputs": [],
   "source": [
    "#listaOp=log_ct.groupby(\"case:id\").apply(lambda x: len(x['concept:name']))"
   ]
  },
  {
   "cell_type": "code",
   "execution_count": 10,
   "metadata": {},
   "outputs": [],
   "source": [
    "def freedman_diaconis(data, returnas):\n",
    "    \"\"\"\n",
    "    Use Freedman Diaconis rule to compute optimal histogram bin width. \n",
    "    ``return`` can be one of \"width\" or \"bins\", indicating whether\n",
    "    the bin width or number of bins should be returned respectively. \n",
    "\n",
    "\n",
    "    Parameters\n",
    "    ----------\n",
    "    data: np.ndarray\n",
    "        One-dimensional array.\n",
    "\n",
    "    returns: {\"width\", \"bins\"}\n",
    "        If \"width\", return the estimated width for each histogram bin. \n",
    "        If \"bins\", return the number of bins suggested by rule.\n",
    "    \"\"\"\n",
    "    data = np.asarray(data, dtype=np.float_)\n",
    "    IQR  = stats.iqr(data, rng=(25, 75), scale=\"raw\", nan_policy=\"omit\")\n",
    "    N    = data.size\n",
    "    bw   = (2 * IQR) / np.power(N, 1/3)\n",
    "\n",
    "    if returnas==\"width\":\n",
    "        result = bw\n",
    "    elif returnas==\"number\":\n",
    "        datmin, datmax = data.min(), data.max()\n",
    "        datrng = datmax - datmin\n",
    "        result = int((datrng / bw) + 1)\n",
    "        \n",
    "    return result"
   ]
  },
  {
   "cell_type": "code",
   "execution_count": 11,
   "metadata": {},
   "outputs": [],
   "source": [
    "def calculateAggregatedCycleTime(df,attribute,cycle):\n",
    "    aggregated=df.groupby(by=attribute).apply(lambda x: x[cycle].mean())\n",
    "    return aggregated"
   ]
  },
  {
   "cell_type": "code",
   "execution_count": null,
   "metadata": {},
   "outputs": [],
   "source": [
    "def calculateFrequency(df,attribute):\n",
    "    aggregated=df[attribute].value_counts()\n",
    "    return aggregated"
   ]
  },
  {
   "cell_type": "code",
   "execution_count": 1,
   "metadata": {},
   "outputs": [],
   "source": [
    "def enrichment(dataframe,caseId,timestamp,activities):\n",
    "    \n",
    "\n",
    "    \"\"\"\n",
    "    Inputs:\n",
    "        dataframe:log in dataframe format\n",
    "        caseId: name of the case column\n",
    "        timestamp: name of the timestamp column\n",
    "        activities: name of the column of activities\n",
    "    \n",
    "    Outputs:\n",
    "        log_ct:log enrichened with properties such as cycle time for events, number of activites per trace...etc\n",
    "    \n",
    "    \"\"\"\n",
    "    #start_time = time.time()\n",
    "    log_ct=calculateCycleTimeOfEachPair(dataframe,caseId,timestamp,activities)\n",
    "    log_ct['Cycle time']=log_ct['Cycle time']/60\n",
    "    #aggregated KPIs over traces\n",
    "#     listaVals=log_ct.groupby(caseId).apply(lambda x: propertiesFunc(x))\n",
    "#     listaNumAct=[]\n",
    "#     listaTotalTime=[]\n",
    "#     listaNumRes=[]\n",
    "#     listaAvgRoles=[]\n",
    "\n",
    "#     for name in log_ct['case:id']:\n",
    "#         fila=listaVals[listaVals.index.isin([name])]\n",
    "#         listaNumAct.append(fila['numAct'].values[0])\n",
    "#         listaTotalTime.append(fila['totalTime'].values[0])\n",
    "#         listaNumRes.append(fila['numRes'].values[0])\n",
    "#         listaAvgRoles.append(fila['avgRoles'].values[0])\n",
    "\n",
    "    #Intento de creación simultanea de varias columnas pero no se como pasar a nuestro el data\n",
    "    #supongo que sería un vector con los valores por filas \n",
    "    #data = np.random.randint(10, size=(5,2))\n",
    "    #df_add = pd.DataFrame(data=data,columns=['numAct','totalTime','numRes','avgRoles'])\n",
    "    #log_ct = pd.concat([log_ct,df_add], axis=1)\n",
    "\n",
    "#     log_ct['numAct']=listaNumAct\n",
    "#     log_ct['totalTime']=listaTotalTime\n",
    "#     log_ct['numRes']=listaNumRes\n",
    "#     log_ct['avgRoles']=listaAvgRoles\n",
    "#     log_ct.set_index(['case:id','numAct','totalTime','numRes','avgRoles','id'], inplace=True)\n",
    "    #print(\"--- %s seconds ---\" % (time.time() - start_time))\n",
    "    \n",
    "    \n",
    "    kpi_frequencies_roles=log_ct['org:role'].value_counts()\n",
    "    kpi_frequencies_resources=log_ct['org:resource'].value_counts()\n",
    "    kpi_frequencies_activites=log_ct['concept:name'].value_counts()\n",
    "    kpi_frequencies_organizations=log_ct['case:Permit OrganizationalEntity'].value_counts()\n",
    "    \n",
    "    \n",
    "    discreteKPIs={\n",
    "          (\"calculateFrequency\",\"org:role\",\"-\"):kpi_frequencies_roles,\n",
    "          (\"calculateFrequency\",\"org:resource\",\"-\"):kpi_frequencies_resources,\n",
    "          (\"calculateFrequency\",\"concept:name\",\"-\"):kpi_frequencies_activites,\n",
    "          (\"calculateFrequency\",\"case:Permit OrganizationalEntity\",\"-\"):kpi_frequencies_organizations\n",
    "        \n",
    "         }\n",
    "    \n",
    "\n",
    "    kpi_activities_time=calculateAggregatedCycleTime(log_ct,\"concept:name\",\"Cycle time\")\n",
    "    kpi_resources_time=calculateAggregatedCycleTime(log_ct,\"org:resource\",\"Cycle time\")\n",
    "    kpi_roles_time=calculateAggregatedCycleTime(log_ct,\"org:role\",\"Cycle time\")\n",
    "    kpi_org_time=calculateAggregatedCycleTime(log_ct,'case:Permit OrganizationalEntity',\"Cycle time\")\n",
    "    kpi_events_time=log_ct['Cycle time']\n",
    "\n",
    "    numericKPIs={\n",
    "          (\"calculateAggregatedCycleTime\",\"concept:name\",\"Cycle time\"):kpi_activities_time,\n",
    "          (\"calculateAggregatedCycleTime\",\"org:resource\",\"Cycle time\"):kpi_resources_time,\n",
    "          (\"calculateAggregatedCycleTime\",\"org:role\",\"Cycle time\"):kpi_roles_time,\n",
    "          (\"calculateAggregatedCycleTime\",\"case:Permit OrganizationalEntity\",\"Cycle time\"):kpi_org_time,\n",
    "         }\n",
    "    \n",
    "    numericKPIsFixed,labels,bins=indexNumericalValue(numericKPIs)\n",
    "    \n",
    "    discreteKPIs.update(numericKPIsFixed)\n",
    "    \n",
    "    return log_ct,discreteKPIs,labels,bins"
   ]
  },
  {
   "cell_type": "code",
   "execution_count": null,
   "metadata": {},
   "outputs": [],
   "source": [
    "# kpisDesired={\n",
    "#     \"calculateAggregatedCycleTime\":[[\"concept:name\",\"Cycle time\"],[\"org:role\",\"Cycle time\"],[ 'case:Permit OrganizationalEntity','Cycle time']]\n",
    "#     \"calculateFrequency\":[[\"org:role\"],[\"org:resource\"],['case:Permit OrganizationalEntity']]\n",
    "# }\n",
    "def enrichmentRefined(dataframe,caseId,timestamp,activities,kpisDesired,dispatcherKPI):\n",
    "    \n",
    "    \"\"\"\n",
    "    Inputs:\n",
    "        dataframe:log in dataframe format\n",
    "        caseId: name of the case column\n",
    "        timestamp: name of the timestamp column\n",
    "        activities: name of the column of activities\n",
    "    \n",
    "    Outputs:\n",
    "        log_ct:log enrichened with properties such as cycle time for events, number of activites per trace...etc\n",
    "    \n",
    "    \"\"\"\n",
    "    #start_time = time.time()\n",
    "    log_ct=calculateCycleTimeOfEachPair(dataframe,caseId,timestamp,activities)\n",
    "    labels={}\n",
    "    bins={}\n",
    "    kpìs={}\n",
    "    \n",
    "    #{\"calculateFrequency\":[[\"org:role\"],[\"org:resource\"],...],calculateAggregatedCycleTime }\n",
    "    for kpiFunction,setParameters in kpisDesired.items():\n",
    "        fun=getFunction(kpiFunction,dispatcherKPI)\n",
    "        for parameters in setParameters:\n",
    "            res=fun(df,parameters)#calculateFrequency(log_ct,[\"org:role\"]),#calculateFrequency(log_ct,[\"org:resource\"]),\n",
    "            \n",
    "            if kpiFunction in kpiNumerics:#if it is a numeric kpi, \n",
    "                nbinsCase=round(freedman_diaconis(KPI,\"number\"))\n",
    "                discretized_case=pd.cut(KPI.values,nbinsCase).value_counts().sort_values(ascending=False).replace(0,np.nan).dropna()\n",
    "                res=(res,discre)\n",
    "                bins[tuple(kpiFuncion,parameters[0],parameters[1])]=nbinsCase\n",
    "                labels[tuple(kpiFuncion,parameters[0],parameters[1])]=discretized_case.index.categories\n",
    "            \n",
    "            if(len(parameters)<2):\n",
    "                kpis[tuple(kpiFuncion,parameters[0],\"-\")]=res\n",
    "            else:\n",
    "                kpis[tuple(kpiFuncion,parameters[0],parameters[1])]=res\n",
    "                \n",
    "    \n",
    "    return log_ct,kpis,labels,bins"
   ]
  },
  {
   "cell_type": "code",
   "execution_count": 28,
   "metadata": {},
   "outputs": [],
   "source": [
    "#val_ct_traces=[(case,sum(log_ct[log_ct['case:id']==case]['Cycle time']) ) for case in log_ct['case:id'].unique()]"
   ]
  },
  {
   "cell_type": "code",
   "execution_count": 33,
   "metadata": {},
   "outputs": [],
   "source": [
    "#log_ct.index.get_level_values('totalTime').unique()"
   ]
  }
 ],
 "metadata": {
  "kernelspec": {
   "display_name": "Python 3",
   "language": "python",
   "name": "python3"
  },
  "language_info": {
   "codemirror_mode": {
    "name": "ipython",
    "version": 3
   },
   "file_extension": ".py",
   "mimetype": "text/x-python",
   "name": "python",
   "nbconvert_exporter": "python",
   "pygments_lexer": "ipython3",
   "version": "3.7.4"
  }
 },
 "nbformat": 4,
 "nbformat_minor": 2
}
