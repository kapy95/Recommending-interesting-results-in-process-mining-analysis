{
 "cells": [
  {
   "cell_type": "code",
   "execution_count": 4,
   "metadata": {},
   "outputs": [],
   "source": [
    "import numpy as np\n",
    "import pandas as pd\n",
    "import pm4py\n",
    "from scipy import stats"
   ]
  },
  {
   "cell_type": "code",
   "execution_count": 3,
   "metadata": {},
   "outputs": [],
   "source": [
    "def groupCasesByDiscreteAttributes(df,attribute,case_id,values):\n",
    "    \"\"\"\n",
    "    This function groups the cases of a log depending on the values of a discrete attribute. \n",
    "    For instance, traces could be splitted depending on the existence of an activity or activities. \n",
    "    \n",
    "    Inputs:\n",
    "    df: dataframe which represents the log\n",
    "    attribute: column to split the dataframe\n",
    "    case_id: name of the column of the cases\n",
    "    values: values that will be used to split the dataframe\n",
    "    \n",
    "    Output:\n",
    "    different groups of cases \"\"\"\n",
    "    \n",
    "    if isinstance(values, list):\n",
    "        cond=dataframe[attribute].isin(values)\n",
    "        cases0=dataframe[cond==0][case_id].unique()\n",
    "        #cases1=dataframe[cond==1][\"case:id\"].unique()\n",
    "        group0=dataframe[dataframe[case_id].isin(cases0)]\n",
    "        group1=dataframe[~dataframe[case_id].isin(cases0)]\n",
    "        \n",
    "    else:\n",
    "        cond=dataframe[attribute]==values\n",
    "        cases0=dataframe[cond==0][case_id].unique()\n",
    "        #cases1=dataframe[cond==1][\"case:id\"].unique()\n",
    "        group0=dataframe[dataframe[case_id].isin(cases0)]\n",
    "        group1=dataframe[~dataframe[case_id].isin(cases0)]\n",
    "        \n",
    "    return group0,group1"
   ]
  },
  {
   "cell_type": "code",
   "execution_count": 5,
   "metadata": {},
   "outputs": [
    {
     "data": {
      "application/vnd.jupyter.widget-view+json": {
       "model_id": "ec6d97ad0a524232b46583aa2754374b",
       "version_major": 2,
       "version_minor": 0
      },
      "text/plain": [
       "HBox(children=(IntProgress(value=0, description='parsing log, completed traces :: ', max=10500, style=Progress…"
      ]
     },
     "metadata": {},
     "output_type": "display_data"
    },
    {
     "name": "stdout",
     "output_type": "stream",
     "text": [
      "\n"
     ]
    }
   ],
   "source": [
    "log = pm4py.read_xes('DomesticDeclarations.xes_')\n",
    "dataframe = pm4py.convert_to_dataframe(log)"
   ]
  },
  {
   "cell_type": "code",
   "execution_count": 11,
   "metadata": {},
   "outputs": [],
   "source": [
    "cond=dataframe[\"concept:name\"].isin([\"Declaration APPROVED by ADMINISTRATION\",'Declaration REJECTED by SUPERVISOR'])"
   ]
  },
  {
   "cell_type": "code",
   "execution_count": 16,
   "metadata": {},
   "outputs": [
    {
     "data": {
      "text/plain": [
       "array(['declaration 86791', 'declaration 86795', 'declaration 86800', ...,\n",
       "       'declaration 138349', 'declaration 138354', 'declaration 138359'],\n",
       "      dtype=object)"
      ]
     },
     "execution_count": 16,
     "metadata": {},
     "output_type": "execute_result"
    }
   ],
   "source": [
    "dataframe[cond==0][\"case:id\"].unique()"
   ]
  },
  {
   "cell_type": "code",
   "execution_count": null,
   "metadata": {},
   "outputs": [],
   "source": [
    "groupCasesByDiscreteAttributes(dataframe,\"concept:name\",,values)"
   ]
  }
 ],
 "metadata": {
  "kernelspec": {
   "display_name": "Python 3",
   "language": "python",
   "name": "python3"
  },
  "language_info": {
   "codemirror_mode": {
    "name": "ipython",
    "version": 3
   },
   "file_extension": ".py",
   "mimetype": "text/x-python",
   "name": "python",
   "nbconvert_exporter": "python",
   "pygments_lexer": "ipython3",
   "version": "3.7.4"
  }
 },
 "nbformat": 4,
 "nbformat_minor": 2
}
