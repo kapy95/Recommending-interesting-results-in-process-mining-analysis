{
 "cells": [
  {
   "cell_type": "code",
   "execution_count": 1,
   "metadata": {},
   "outputs": [],
   "source": [
    "import numpy as np\n",
    "import pandas as pd\n",
    "import pm4py\n",
    "from scipy import stats"
   ]
  },
  {
   "cell_type": "code",
   "execution_count": 6,
   "metadata": {},
   "outputs": [],
   "source": [
    "import import_ipynb\n",
    "from logEnrichment import enrichment\n",
    "from filteringOperations import filterCasesByActivities\n",
    "from interestingness_functions import compute_interestingness_kl_divergence,compute_interestingness_variance"
   ]
  },
  {
   "cell_type": "code",
   "execution_count": 4,
   "metadata": {},
   "outputs": [
    {
     "data": {
      "application/vnd.jupyter.widget-view+json": {
       "model_id": "03918688ee0c4c58a59eaa278d8a3baa",
       "version_major": 2,
       "version_minor": 0
      },
      "text/plain": [
       "HBox(children=(IntProgress(value=0, description='parsing log, completed traces :: ', max=10500, style=Progress…"
      ]
     },
     "metadata": {},
     "output_type": "display_data"
    },
    {
     "name": "stdout",
     "output_type": "stream",
     "text": [
      "\n"
     ]
    }
   ],
   "source": [
    "log = pm4py.read_xes('DomesticDeclarations.xes_')\n",
    "dataframe = pm4py.convert_to_dataframe(log)"
   ]
  },
  {
   "cell_type": "code",
   "execution_count": 5,
   "metadata": {},
   "outputs": [],
   "source": [
    "log_ct=enrichment(dataframe,\"case:id\",\"time:timestamp\",\"concept:name\")"
   ]
  },
  {
   "cell_type": "code",
   "execution_count": 5,
   "metadata": {},
   "outputs": [
    {
     "data": {
      "text/html": [
       "<div>\n",
       "<style scoped>\n",
       "    .dataframe tbody tr th:only-of-type {\n",
       "        vertical-align: middle;\n",
       "    }\n",
       "\n",
       "    .dataframe tbody tr th {\n",
       "        vertical-align: top;\n",
       "    }\n",
       "\n",
       "    .dataframe thead th {\n",
       "        text-align: right;\n",
       "    }\n",
       "</style>\n",
       "<table border=\"1\" class=\"dataframe\">\n",
       "  <thead>\n",
       "    <tr style=\"text-align: right;\">\n",
       "      <th></th>\n",
       "      <th>id</th>\n",
       "      <th>org:resource</th>\n",
       "      <th>concept:name</th>\n",
       "      <th>time:timestamp</th>\n",
       "      <th>org:role</th>\n",
       "      <th>case:id</th>\n",
       "      <th>case:concept:name</th>\n",
       "      <th>case:BudgetNumber</th>\n",
       "      <th>case:DeclarationNumber</th>\n",
       "      <th>case:Amount</th>\n",
       "      <th>Initial Activity</th>\n",
       "      <th>Final Activity</th>\n",
       "      <th>Cycle time</th>\n",
       "      <th>Transition</th>\n",
       "    </tr>\n",
       "  </thead>\n",
       "  <tbody>\n",
       "    <tr>\n",
       "      <td>0</td>\n",
       "      <td>st_step 86794_0</td>\n",
       "      <td>STAFF MEMBER</td>\n",
       "      <td>Declaration SUBMITTED by EMPLOYEE</td>\n",
       "      <td>2017-01-09 09:49:50+01:00</td>\n",
       "      <td>EMPLOYEE</td>\n",
       "      <td>declaration 86791</td>\n",
       "      <td>declaration 86791</td>\n",
       "      <td>budget 86566</td>\n",
       "      <td>declaration number 86792</td>\n",
       "      <td>26.851205</td>\n",
       "      <td>Declaration SUBMITTED by EMPLOYEE</td>\n",
       "      <td>Declaration FINAL_APPROVED by SUPERVISOR</td>\n",
       "      <td>97.966667</td>\n",
       "      <td>(Declaration SUBMITTED by EMPLOYEE, Declaration FINAL_APPROVED by SUPERVISOR)</td>\n",
       "    </tr>\n",
       "    <tr>\n",
       "      <td>1</td>\n",
       "      <td>st_step 86793_0</td>\n",
       "      <td>STAFF MEMBER</td>\n",
       "      <td>Declaration FINAL_APPROVED by SUPERVISOR</td>\n",
       "      <td>2017-01-09 11:27:48+01:00</td>\n",
       "      <td>SUPERVISOR</td>\n",
       "      <td>declaration 86791</td>\n",
       "      <td>declaration 86791</td>\n",
       "      <td>budget 86566</td>\n",
       "      <td>declaration number 86792</td>\n",
       "      <td>26.851205</td>\n",
       "      <td>Declaration FINAL_APPROVED by SUPERVISOR</td>\n",
       "      <td>Request Payment</td>\n",
       "      <td>1326.933333</td>\n",
       "      <td>(Declaration FINAL_APPROVED by SUPERVISOR, Request Payment)</td>\n",
       "    </tr>\n",
       "    <tr>\n",
       "      <td>2</td>\n",
       "      <td>dd_declaration 86791_19</td>\n",
       "      <td>SYSTEM</td>\n",
       "      <td>Request Payment</td>\n",
       "      <td>2017-01-10 09:34:44+01:00</td>\n",
       "      <td>UNDEFINED</td>\n",
       "      <td>declaration 86791</td>\n",
       "      <td>declaration 86791</td>\n",
       "      <td>budget 86566</td>\n",
       "      <td>declaration number 86792</td>\n",
       "      <td>26.851205</td>\n",
       "      <td>Request Payment</td>\n",
       "      <td>Payment Handled</td>\n",
       "      <td>3356.633333</td>\n",
       "      <td>(Request Payment, Payment Handled)</td>\n",
       "    </tr>\n",
       "    <tr>\n",
       "      <td>3</td>\n",
       "      <td>dd_declaration 86791_20</td>\n",
       "      <td>SYSTEM</td>\n",
       "      <td>Payment Handled</td>\n",
       "      <td>2017-01-12 17:31:22+01:00</td>\n",
       "      <td>UNDEFINED</td>\n",
       "      <td>declaration 86791</td>\n",
       "      <td>declaration 86791</td>\n",
       "      <td>budget 86566</td>\n",
       "      <td>declaration number 86792</td>\n",
       "      <td>26.851205</td>\n",
       "      <td>-</td>\n",
       "      <td>-</td>\n",
       "      <td>0.000000</td>\n",
       "      <td>-</td>\n",
       "    </tr>\n",
       "    <tr>\n",
       "      <td>4</td>\n",
       "      <td>st_step 86798_0</td>\n",
       "      <td>STAFF MEMBER</td>\n",
       "      <td>Declaration SUBMITTED by EMPLOYEE</td>\n",
       "      <td>2017-01-09 10:26:14+01:00</td>\n",
       "      <td>EMPLOYEE</td>\n",
       "      <td>declaration 86795</td>\n",
       "      <td>declaration 86795</td>\n",
       "      <td>budget 86566</td>\n",
       "      <td>declaration number 86796</td>\n",
       "      <td>182.464172</td>\n",
       "      <td>Declaration SUBMITTED by EMPLOYEE</td>\n",
       "      <td>Declaration APPROVED by PRE_APPROVER</td>\n",
       "      <td>63363.116667</td>\n",
       "      <td>(Declaration SUBMITTED by EMPLOYEE, Declaration APPROVED by PRE_APPROVER)</td>\n",
       "    </tr>\n",
       "    <tr>\n",
       "      <td>...</td>\n",
       "      <td>...</td>\n",
       "      <td>...</td>\n",
       "      <td>...</td>\n",
       "      <td>...</td>\n",
       "      <td>...</td>\n",
       "      <td>...</td>\n",
       "      <td>...</td>\n",
       "      <td>...</td>\n",
       "      <td>...</td>\n",
       "      <td>...</td>\n",
       "      <td>...</td>\n",
       "      <td>...</td>\n",
       "      <td>...</td>\n",
       "      <td>...</td>\n",
       "    </tr>\n",
       "    <tr>\n",
       "      <td>56432</td>\n",
       "      <td>st_step 138363_0</td>\n",
       "      <td>STAFF MEMBER</td>\n",
       "      <td>Declaration SUBMITTED by EMPLOYEE</td>\n",
       "      <td>2018-12-29 17:50:14+01:00</td>\n",
       "      <td>EMPLOYEE</td>\n",
       "      <td>declaration 138359</td>\n",
       "      <td>declaration 138359</td>\n",
       "      <td>budget 86566</td>\n",
       "      <td>declaration number 138360</td>\n",
       "      <td>190.404576</td>\n",
       "      <td>Declaration SUBMITTED by EMPLOYEE</td>\n",
       "      <td>Declaration APPROVED by ADMINISTRATION</td>\n",
       "      <td>5.983333</td>\n",
       "      <td>(Declaration SUBMITTED by EMPLOYEE, Declaration APPROVED by ADMINISTRATION)</td>\n",
       "    </tr>\n",
       "    <tr>\n",
       "      <td>56433</td>\n",
       "      <td>st_step 138361_0</td>\n",
       "      <td>STAFF MEMBER</td>\n",
       "      <td>Declaration APPROVED by ADMINISTRATION</td>\n",
       "      <td>2018-12-29 17:56:13+01:00</td>\n",
       "      <td>ADMINISTRATION</td>\n",
       "      <td>declaration 138359</td>\n",
       "      <td>declaration 138359</td>\n",
       "      <td>budget 86566</td>\n",
       "      <td>declaration number 138360</td>\n",
       "      <td>190.404576</td>\n",
       "      <td>Declaration APPROVED by ADMINISTRATION</td>\n",
       "      <td>Declaration FINAL_APPROVED by SUPERVISOR</td>\n",
       "      <td>6659.650000</td>\n",
       "      <td>(Declaration APPROVED by ADMINISTRATION, Declaration FINAL_APPROVED by SUPERVISOR)</td>\n",
       "    </tr>\n",
       "    <tr>\n",
       "      <td>56434</td>\n",
       "      <td>st_step 138362_0</td>\n",
       "      <td>STAFF MEMBER</td>\n",
       "      <td>Declaration FINAL_APPROVED by SUPERVISOR</td>\n",
       "      <td>2019-01-03 08:55:52+01:00</td>\n",
       "      <td>SUPERVISOR</td>\n",
       "      <td>declaration 138359</td>\n",
       "      <td>declaration 138359</td>\n",
       "      <td>budget 86566</td>\n",
       "      <td>declaration number 138360</td>\n",
       "      <td>190.404576</td>\n",
       "      <td>Declaration FINAL_APPROVED by SUPERVISOR</td>\n",
       "      <td>Request Payment</td>\n",
       "      <td>7164.600000</td>\n",
       "      <td>(Declaration FINAL_APPROVED by SUPERVISOR, Request Payment)</td>\n",
       "    </tr>\n",
       "    <tr>\n",
       "      <td>56435</td>\n",
       "      <td>dd_declaration 138359_19</td>\n",
       "      <td>SYSTEM</td>\n",
       "      <td>Request Payment</td>\n",
       "      <td>2019-01-08 08:20:28+01:00</td>\n",
       "      <td>UNDEFINED</td>\n",
       "      <td>declaration 138359</td>\n",
       "      <td>declaration 138359</td>\n",
       "      <td>budget 86566</td>\n",
       "      <td>declaration number 138360</td>\n",
       "      <td>190.404576</td>\n",
       "      <td>Request Payment</td>\n",
       "      <td>Payment Handled</td>\n",
       "      <td>3430.666667</td>\n",
       "      <td>(Request Payment, Payment Handled)</td>\n",
       "    </tr>\n",
       "    <tr>\n",
       "      <td>56436</td>\n",
       "      <td>dd_declaration 138359_20</td>\n",
       "      <td>SYSTEM</td>\n",
       "      <td>Payment Handled</td>\n",
       "      <td>2019-01-10 17:31:08+01:00</td>\n",
       "      <td>UNDEFINED</td>\n",
       "      <td>declaration 138359</td>\n",
       "      <td>declaration 138359</td>\n",
       "      <td>budget 86566</td>\n",
       "      <td>declaration number 138360</td>\n",
       "      <td>190.404576</td>\n",
       "      <td>-</td>\n",
       "      <td>-</td>\n",
       "      <td>0.000000</td>\n",
       "      <td>-</td>\n",
       "    </tr>\n",
       "  </tbody>\n",
       "</table>\n",
       "<p>56437 rows × 14 columns</p>\n",
       "</div>"
      ],
      "text/plain": [
       "                             id  org:resource  \\\n",
       "0               st_step 86794_0  STAFF MEMBER   \n",
       "1               st_step 86793_0  STAFF MEMBER   \n",
       "2       dd_declaration 86791_19        SYSTEM   \n",
       "3       dd_declaration 86791_20        SYSTEM   \n",
       "4               st_step 86798_0  STAFF MEMBER   \n",
       "...                         ...           ...   \n",
       "56432          st_step 138363_0  STAFF MEMBER   \n",
       "56433          st_step 138361_0  STAFF MEMBER   \n",
       "56434          st_step 138362_0  STAFF MEMBER   \n",
       "56435  dd_declaration 138359_19        SYSTEM   \n",
       "56436  dd_declaration 138359_20        SYSTEM   \n",
       "\n",
       "                                   concept:name             time:timestamp  \\\n",
       "0             Declaration SUBMITTED by EMPLOYEE  2017-01-09 09:49:50+01:00   \n",
       "1      Declaration FINAL_APPROVED by SUPERVISOR  2017-01-09 11:27:48+01:00   \n",
       "2                               Request Payment  2017-01-10 09:34:44+01:00   \n",
       "3                               Payment Handled  2017-01-12 17:31:22+01:00   \n",
       "4             Declaration SUBMITTED by EMPLOYEE  2017-01-09 10:26:14+01:00   \n",
       "...                                         ...                        ...   \n",
       "56432         Declaration SUBMITTED by EMPLOYEE  2018-12-29 17:50:14+01:00   \n",
       "56433    Declaration APPROVED by ADMINISTRATION  2018-12-29 17:56:13+01:00   \n",
       "56434  Declaration FINAL_APPROVED by SUPERVISOR  2019-01-03 08:55:52+01:00   \n",
       "56435                           Request Payment  2019-01-08 08:20:28+01:00   \n",
       "56436                           Payment Handled  2019-01-10 17:31:08+01:00   \n",
       "\n",
       "             org:role             case:id   case:concept:name  \\\n",
       "0            EMPLOYEE   declaration 86791   declaration 86791   \n",
       "1          SUPERVISOR   declaration 86791   declaration 86791   \n",
       "2           UNDEFINED   declaration 86791   declaration 86791   \n",
       "3           UNDEFINED   declaration 86791   declaration 86791   \n",
       "4            EMPLOYEE   declaration 86795   declaration 86795   \n",
       "...               ...                 ...                 ...   \n",
       "56432        EMPLOYEE  declaration 138359  declaration 138359   \n",
       "56433  ADMINISTRATION  declaration 138359  declaration 138359   \n",
       "56434      SUPERVISOR  declaration 138359  declaration 138359   \n",
       "56435       UNDEFINED  declaration 138359  declaration 138359   \n",
       "56436       UNDEFINED  declaration 138359  declaration 138359   \n",
       "\n",
       "      case:BudgetNumber     case:DeclarationNumber  case:Amount  \\\n",
       "0          budget 86566   declaration number 86792    26.851205   \n",
       "1          budget 86566   declaration number 86792    26.851205   \n",
       "2          budget 86566   declaration number 86792    26.851205   \n",
       "3          budget 86566   declaration number 86792    26.851205   \n",
       "4          budget 86566   declaration number 86796   182.464172   \n",
       "...                 ...                        ...          ...   \n",
       "56432      budget 86566  declaration number 138360   190.404576   \n",
       "56433      budget 86566  declaration number 138360   190.404576   \n",
       "56434      budget 86566  declaration number 138360   190.404576   \n",
       "56435      budget 86566  declaration number 138360   190.404576   \n",
       "56436      budget 86566  declaration number 138360   190.404576   \n",
       "\n",
       "                               Initial Activity  \\\n",
       "0             Declaration SUBMITTED by EMPLOYEE   \n",
       "1      Declaration FINAL_APPROVED by SUPERVISOR   \n",
       "2                               Request Payment   \n",
       "3                                             -   \n",
       "4             Declaration SUBMITTED by EMPLOYEE   \n",
       "...                                         ...   \n",
       "56432         Declaration SUBMITTED by EMPLOYEE   \n",
       "56433    Declaration APPROVED by ADMINISTRATION   \n",
       "56434  Declaration FINAL_APPROVED by SUPERVISOR   \n",
       "56435                           Request Payment   \n",
       "56436                                         -   \n",
       "\n",
       "                                 Final Activity    Cycle time  \\\n",
       "0      Declaration FINAL_APPROVED by SUPERVISOR     97.966667   \n",
       "1                               Request Payment   1326.933333   \n",
       "2                               Payment Handled   3356.633333   \n",
       "3                                             -      0.000000   \n",
       "4          Declaration APPROVED by PRE_APPROVER  63363.116667   \n",
       "...                                         ...           ...   \n",
       "56432    Declaration APPROVED by ADMINISTRATION      5.983333   \n",
       "56433  Declaration FINAL_APPROVED by SUPERVISOR   6659.650000   \n",
       "56434                           Request Payment   7164.600000   \n",
       "56435                           Payment Handled   3430.666667   \n",
       "56436                                         -      0.000000   \n",
       "\n",
       "                                                                               Transition  \n",
       "0           (Declaration SUBMITTED by EMPLOYEE, Declaration FINAL_APPROVED by SUPERVISOR)  \n",
       "1                             (Declaration FINAL_APPROVED by SUPERVISOR, Request Payment)  \n",
       "2                                                      (Request Payment, Payment Handled)  \n",
       "3                                                                                       -  \n",
       "4               (Declaration SUBMITTED by EMPLOYEE, Declaration APPROVED by PRE_APPROVER)  \n",
       "...                                                                                   ...  \n",
       "56432         (Declaration SUBMITTED by EMPLOYEE, Declaration APPROVED by ADMINISTRATION)  \n",
       "56433  (Declaration APPROVED by ADMINISTRATION, Declaration FINAL_APPROVED by SUPERVISOR)  \n",
       "56434                         (Declaration FINAL_APPROVED by SUPERVISOR, Request Payment)  \n",
       "56435                                                  (Request Payment, Payment Handled)  \n",
       "56436                                                                                   -  \n",
       "\n",
       "[56437 rows x 14 columns]"
      ]
     },
     "execution_count": 5,
     "metadata": {},
     "output_type": "execute_result"
    }
   ],
   "source": [
    "log_ct"
   ]
  },
  {
   "cell_type": "code",
   "execution_count": null,
   "metadata": {},
   "outputs": [],
   "source": [
    "def func(x):\n",
    "    x['num']=len(x['concept:name'])\n",
    "    return x"
   ]
  },
  {
   "cell_type": "code",
   "execution_count": null,
   "metadata": {},
   "outputs": [],
   "source": [
    "df_agrupado_trazas=log_ct.groupby(['case:id']).agg(lambda x: list(x))"
   ]
  },
  {
   "cell_type": "code",
   "execution_count": null,
   "metadata": {},
   "outputs": [],
   "source": [
    "df_agrupado_trazas['num_act']=[ len(lista) for lista in df_agrupado_trazas['concept:name']]"
   ]
  },
  {
   "cell_type": "code",
   "execution_count": null,
   "metadata": {},
   "outputs": [],
   "source": [
    "df_agrupado_trazas"
   ]
  },
  {
   "cell_type": "code",
   "execution_count": 6,
   "metadata": {},
   "outputs": [],
   "source": [
    "log_ct[\"org:role\"].unique()\n",
    "#supongamos tres clusters \n",
    "log_sup=log_ct[log_ct[\"org:role\"]=='SUPERVISOR']\n",
    "log_emp=log_ct[log_ct[\"org:role\"]=='EMPLOYEE']\n",
    "log_own=log_ct[log_ct[\"org:role\"]=='BUDGET OWNER']"
   ]
  },
  {
   "cell_type": "code",
   "execution_count": 7,
   "metadata": {},
   "outputs": [
    {
     "data": {
      "text/plain": [
       "Payment Handled    10044\n",
       "Request Payment    10040\n",
       "Name: concept:name, dtype: int64"
      ]
     },
     "execution_count": 7,
     "metadata": {},
     "output_type": "execute_result"
    }
   ],
   "source": [
    "log_ct[log_ct['org:resource']=='SYSTEM']['concept:name'].value_counts()"
   ]
  },
  {
   "cell_type": "code",
   "execution_count": 8,
   "metadata": {},
   "outputs": [
    {
     "name": "stdout",
     "output_type": "stream",
     "text": [
      "La varianza del cycle time de los eventos de Supervisor es 148956830.7510441\n"
     ]
    }
   ],
   "source": [
    "print(\"La varianza del cycle time de los eventos de Supervisor es\"+\" \"+str(np.var(log_sup[\"Cycle time\"])))"
   ]
  },
  {
   "cell_type": "code",
   "execution_count": 9,
   "metadata": {},
   "outputs": [
    {
     "name": "stdout",
     "output_type": "stream",
     "text": [
      "La varianza del cycle time de los eventos de Employer es 304054773.75200707\n"
     ]
    }
   ],
   "source": [
    "print(\"La varianza del cycle time de los eventos de Employer es\"+\" \"+str(np.var(log_emp[\"Cycle time\"])))"
   ]
  },
  {
   "cell_type": "code",
   "execution_count": 10,
   "metadata": {},
   "outputs": [
    {
     "name": "stdout",
     "output_type": "stream",
     "text": [
      "La varianza del cycle time de los eventos de Owner es 12421852.302973488\n"
     ]
    }
   ],
   "source": [
    "print(\"La varianza del cycle time de los eventos de Owner es\"+\" \"+str(np.var(log_own[\"Cycle time\"])))"
   ]
  },
  {
   "cell_type": "code",
   "execution_count": 11,
   "metadata": {},
   "outputs": [],
   "source": [
    "#calcula la probabilidad de que ocurra cada actividad después de agrupar: .apply(lambda x: len(x)/len(log_sup))\n",
    "group_act_sup=log_sup.groupby(\"concept:name\").apply(lambda x: len(x)/len(log_sup))\n",
    "group_act_own=log_own.groupby(\"concept:name\").apply(lambda x: len(x)/len(log_own))"
   ]
  },
  {
   "cell_type": "code",
   "execution_count": 12,
   "metadata": {},
   "outputs": [],
   "source": [
    "#dispersion\n",
    "def schutzFormula(probs,numberTuples):\n",
    "    q=1/numberTuples#np.mean(probs)\n",
    "\n",
    "    #schutz=float(1-sum([prob-q for prob in probs])/(2*numberTuples*q))\n",
    "    schutz=float(sum([abs(prob-q) for prob in probs])/(2*numberTuples*q))\n",
    "    return schutz    "
   ]
  },
  {
   "cell_type": "code",
   "execution_count": 13,
   "metadata": {
    "scrolled": true
   },
   "outputs": [
    {
     "data": {
      "text/plain": [
       "concept:name\n",
       "Declaration APPROVED by BUDGET OWNER    0.979507\n",
       "Declaration REJECTED by BUDGET OWNER    0.020493\n",
       "dtype: float64"
      ]
     },
     "execution_count": 13,
     "metadata": {},
     "output_type": "execute_result"
    }
   ],
   "source": [
    "group_act_own"
   ]
  },
  {
   "cell_type": "code",
   "execution_count": 14,
   "metadata": {},
   "outputs": [
    {
     "data": {
      "text/plain": [
       "0.6384652278177458"
      ]
     },
     "execution_count": 14,
     "metadata": {},
     "output_type": "execute_result"
    }
   ],
   "source": [
    "schutzFormula(group_act_sup.values,len(group_act_sup.values))"
   ]
  },
  {
   "cell_type": "code",
   "execution_count": 15,
   "metadata": {},
   "outputs": [
    {
     "data": {
      "text/plain": [
       "0.4795067731851337"
      ]
     },
     "execution_count": 15,
     "metadata": {},
     "output_type": "execute_result"
    }
   ],
   "source": [
    "schutzFormula(group_act_own.values,len(group_act_own.values))"
   ]
  },
  {
   "cell_type": "code",
   "execution_count": 16,
   "metadata": {},
   "outputs": [],
   "source": [
    "group_res_ct=log_ct.groupby(\"org:resource\").apply(lambda x: np.mean(x['Cycle time']))"
   ]
  },
  {
   "cell_type": "code",
   "execution_count": 17,
   "metadata": {},
   "outputs": [
    {
     "data": {
      "text/plain": [
       "157473.63532723146"
      ]
     },
     "execution_count": 17,
     "metadata": {},
     "output_type": "execute_result"
    }
   ],
   "source": [
    "np.var(group_res_ct)"
   ]
  },
  {
   "cell_type": "code",
   "execution_count": 18,
   "metadata": {},
   "outputs": [],
   "source": [
    "#Conciseness:\n",
    "#results_conciseness_res=log_ct.groupby(\"org:resource\").apply(lambda x: len(x)/len(log_ct))\n",
    "df_filtrado=filterCasesByActivities(log_ct,\"concept:name\",\"case:id\",['Declaration APPROVED by BUDGET OWNER','Declaration SUBMITTED by EMPLOYEE'])"
   ]
  },
  {
   "cell_type": "code",
   "execution_count": 19,
   "metadata": {},
   "outputs": [],
   "source": [
    "df_filtrado2=filterCasesByActivities(log_ct,\"concept:name\",\"case:id\",['Declaration REJECTED by ADMINISTRATION'])"
   ]
  },
  {
   "cell_type": "code",
   "execution_count": 20,
   "metadata": {},
   "outputs": [],
   "source": [
    "df_filtrado3=filterCasesByActivities(log_ct,\"concept:name\",\"case:id\",['Declaration FOR_APPROVAL by PRE_APPROVER'])"
   ]
  },
  {
   "cell_type": "code",
   "execution_count": 21,
   "metadata": {},
   "outputs": [],
   "source": [
    "conciseness=[len(log_ct)/len(df_filtrado),len(log_ct)/len(df_filtrado2),len(log_ct)/len(df_filtrado3)]"
   ]
  },
  {
   "cell_type": "code",
   "execution_count": 22,
   "metadata": {},
   "outputs": [],
   "source": [
    "def normBoxScore(data):\n",
    "\n",
    "    #first the boxcox function tries to normalize the data\n",
    "    boxcox=stats.boxcox(data)\n",
    "    \n",
    "    #after that the zscore function is also applied to reduce the scale of the data \n",
    "    results_normalized=stats.zscore(boxcox[0])\n",
    "    \n",
    "    return results_normalized\n",
    "    "
   ]
  },
  {
   "cell_type": "code",
   "execution_count": 23,
   "metadata": {},
   "outputs": [],
   "source": [
    "norm_var_ct=normBoxScore([148956830.7510441,304054773.75200707,12421852.302973488])"
   ]
  },
  {
   "cell_type": "code",
   "execution_count": 24,
   "metadata": {},
   "outputs": [],
   "source": [
    "norm_schutz=normBoxScore([5.55,2.77])"
   ]
  },
  {
   "cell_type": "code",
   "execution_count": 25,
   "metadata": {},
   "outputs": [],
   "source": [
    "norm_conciseness=normBoxScore(conciseness)"
   ]
  },
  {
   "cell_type": "code",
   "execution_count": 26,
   "metadata": {},
   "outputs": [
    {
     "data": {
      "text/plain": [
       "array([ 0.2354198 ,  1.08994615, -1.32536595])"
      ]
     },
     "execution_count": 26,
     "metadata": {},
     "output_type": "execute_result"
    }
   ],
   "source": [
    "norm_var_ct"
   ]
  },
  {
   "cell_type": "code",
   "execution_count": 27,
   "metadata": {},
   "outputs": [
    {
     "data": {
      "text/plain": [
       "array([ 1., -1.])"
      ]
     },
     "execution_count": 27,
     "metadata": {},
     "output_type": "execute_result"
    }
   ],
   "source": [
    "norm_schutz"
   ]
  },
  {
   "cell_type": "code",
   "execution_count": 28,
   "metadata": {},
   "outputs": [
    {
     "data": {
      "text/plain": [
       "array([-1.0875973 , -0.23904813,  1.32664543])"
      ]
     },
     "execution_count": 28,
     "metadata": {},
     "output_type": "execute_result"
    }
   ],
   "source": [
    "norm_conciseness"
   ]
  },
  {
   "cell_type": "code",
   "execution_count": 29,
   "metadata": {},
   "outputs": [
    {
     "data": {
      "text/plain": [
       "array([-0.89848359, -0.61054922, -0.16237151,  1.67140432])"
      ]
     },
     "execution_count": 29,
     "metadata": {},
     "output_type": "execute_result"
    }
   ],
   "source": [
    "normBoxScore([0.55,0.83,1.76,75454])"
   ]
  },
  {
   "cell_type": "code",
   "execution_count": 30,
   "metadata": {},
   "outputs": [],
   "source": [
    "from math import log2\n",
    "def kl_divergence(p, q):\n",
    "    return sum(p[i] * log2(p[i]/q[i]) for i in range(len(p)))"
   ]
  },
  {
   "cell_type": "code",
   "execution_count": 31,
   "metadata": {},
   "outputs": [
    {
     "data": {
      "text/plain": [
       "Declaration FINAL_APPROVED by SUPERVISOR    0.214286\n",
       "Request Payment                             0.214286\n",
       "Declaration SUBMITTED by EMPLOYEE           0.214286\n",
       "Payment Handled                             0.214286\n",
       "Declaration APPROVED by PRE_APPROVER        0.142857\n",
       "Name: concept:name, dtype: float64"
      ]
     },
     "execution_count": 31,
     "metadata": {},
     "output_type": "execute_result"
    }
   ],
   "source": [
    "ids=['declaration 86791', 'declaration 86795', 'declaration 86800']\n",
    "log_ids=log_ct[log_ct[\"case:concept:name\"].isin(ids)]\n",
    "val_log_ids=log_ids['concept:name'].value_counts()\n",
    "prob_log_ids=val_log_ids/sum(val_log_ids)\n",
    "prob_log_ids"
   ]
  },
  {
   "cell_type": "code",
   "execution_count": 32,
   "metadata": {},
   "outputs": [
    {
     "data": {
      "text/plain": [
       "Declaration SUBMITTED by EMPLOYEE           0.2\n",
       "Declaration FINAL_APPROVED by SUPERVISOR    0.2\n",
       "Request Payment                             0.2\n",
       "Declaration APPROVED by ADMINISTRATION      0.2\n",
       "Payment Handled                             0.2\n",
       "Name: concept:name, dtype: float64"
      ]
     },
     "execution_count": 32,
     "metadata": {},
     "output_type": "execute_result"
    }
   ],
   "source": [
    "ids2=['declaration 138349', 'declaration 138354', 'declaration 138359']\n",
    "log_ids2=log_ct[log_ct[\"case:concept:name\"].isin(ids2)]\n",
    "val_log_ids2=log_ids2['concept:name'].value_counts()\n",
    "prob_log_ids2=val_log_ids2/sum(val_log_ids2)\n",
    "prob_log_ids2"
   ]
  },
  {
   "cell_type": "code",
   "execution_count": 33,
   "metadata": {},
   "outputs": [
    {
     "data": {
      "text/plain": [
       "0.0008163265306122448"
      ]
     },
     "execution_count": 33,
     "metadata": {},
     "output_type": "execute_result"
    }
   ],
   "source": [
    "np.var(prob_log_ids)"
   ]
  },
  {
   "cell_type": "code",
   "execution_count": 34,
   "metadata": {},
   "outputs": [
    {
     "data": {
      "text/plain": [
       "Index(['id', 'org:resource', 'concept:name', 'time:timestamp', 'org:role',\n",
       "       'case:id', 'case:concept:name', 'case:BudgetNumber',\n",
       "       'case:DeclarationNumber', 'case:Amount', 'Initial Activity',\n",
       "       'Final Activity', 'Cycle time', 'Transition'],\n",
       "      dtype='object')"
      ]
     },
     "execution_count": 34,
     "metadata": {},
     "output_type": "execute_result"
    }
   ],
   "source": [
    "log_ids.columns"
   ]
  },
  {
   "cell_type": "code",
   "execution_count": 1,
   "metadata": {},
   "outputs": [
    {
     "ename": "NameError",
     "evalue": "name 'compute_interestingness_kl_divergence' is not defined",
     "output_type": "error",
     "traceback": [
      "\u001b[1;31m---------------------------------------------------------------------------\u001b[0m",
      "\u001b[1;31mNameError\u001b[0m                                 Traceback (most recent call last)",
      "\u001b[1;32m<ipython-input-1-426305184ff4>\u001b[0m in \u001b[0;36m<module>\u001b[1;34m\u001b[0m\n\u001b[0;32m      1\u001b[0m \u001b[1;31m#prueba directa sin adaptar trazas y eso\u001b[0m\u001b[1;33m\u001b[0m\u001b[1;33m\u001b[0m\u001b[1;33m\u001b[0m\u001b[0m\n\u001b[1;32m----> 2\u001b[1;33m \u001b[0mlista\u001b[0m\u001b[1;33m=\u001b[0m\u001b[0mcompute_interestingness_kl_divergence\u001b[0m\u001b[1;33m(\u001b[0m\u001b[0mlog_ct\u001b[0m\u001b[1;33m,\u001b[0m\u001b[0mlog_ids2\u001b[0m\u001b[1;33m,\u001b[0m\u001b[1;33m[\u001b[0m\u001b[1;34m'org:resource'\u001b[0m\u001b[1;33m,\u001b[0m\u001b[1;34m'Cycle time'\u001b[0m\u001b[1;33m,\u001b[0m\u001b[1;34m'case:Amount'\u001b[0m\u001b[1;33m,\u001b[0m\u001b[1;34m'concept:name'\u001b[0m\u001b[1;33m]\u001b[0m\u001b[1;33m,\u001b[0m\u001b[1;32mFalse\u001b[0m\u001b[1;33m)\u001b[0m\u001b[1;33m\u001b[0m\u001b[1;33m\u001b[0m\u001b[0m\n\u001b[0m\u001b[0;32m      3\u001b[0m \u001b[0mlista\u001b[0m\u001b[1;33m\u001b[0m\u001b[1;33m\u001b[0m\u001b[0m\n",
      "\u001b[1;31mNameError\u001b[0m: name 'compute_interestingness_kl_divergence' is not defined"
     ]
    }
   ],
   "source": [
    "#prueba directa sin adaptar trazas y eso\n",
    "lista=compute_interestingness_kl_divergence(log_ct,log_ids2,['org:resource','Cycle time','case:Amount','concept:name'],False)\n",
    "lista"
   ]
  },
  {
   "cell_type": "code",
   "execution_count": 41,
   "metadata": {},
   "outputs": [
    {
     "data": {
      "text/plain": [
       "('case:Amount', 5.898383626283723)"
      ]
     },
     "execution_count": 41,
     "metadata": {},
     "output_type": "execute_result"
    }
   ],
   "source": [
    "from operator import itemgetter\n",
    "max(lista,key=itemgetter(1))"
   ]
  },
  {
   "cell_type": "code",
   "execution_count": null,
   "metadata": {},
   "outputs": [],
   "source": [
    "kl_divergence(prob_log_ids,[0.2,0.2,0.2,0.2,0.2])"
   ]
  },
  {
   "cell_type": "code",
   "execution_count": null,
   "metadata": {},
   "outputs": [],
   "source": [
    "kl_divergence(prob_log_ids,[0.2,0.2,0.2,0.2,0.2,0,0,0])"
   ]
  },
  {
   "cell_type": "code",
   "execution_count": null,
   "metadata": {},
   "outputs": [],
   "source": [
    "kl_divergence(prob_log_ids,[0.1,0.3,0.5,0.05,0.05,0,0,0])"
   ]
  }
 ],
 "metadata": {
  "kernelspec": {
   "display_name": "Python 3",
   "language": "python",
   "name": "python3"
  },
  "language_info": {
   "codemirror_mode": {
    "name": "ipython",
    "version": 3
   },
   "file_extension": ".py",
   "mimetype": "text/x-python",
   "name": "python",
   "nbconvert_exporter": "python",
   "pygments_lexer": "ipython3",
   "version": "3.7.4"
  }
 },
 "nbformat": 4,
 "nbformat_minor": 2
}
